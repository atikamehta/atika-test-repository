{
 "cells": [
  {
   "cell_type": "code",
   "execution_count": 1,
   "metadata": {},
   "outputs": [
    {
     "name": "stdout",
     "output_type": "stream",
     "text": [
      "enter number:13\n",
      "1\n"
     ]
    }
   ],
   "source": [
    "binum=[0,1]\n",
    "num=int(input('enter number:'))\n",
    "print(binum[num%2])"
   ]
  },
  {
   "cell_type": "code",
   "execution_count": 2,
   "metadata": {},
   "outputs": [
    {
     "name": "stdout",
     "output_type": "stream",
     "text": [
      "[1, 2, 3, 4]\n",
      "[5, 6, 7, 8]\n",
      "list: [1, 2, 3, 4, 5, 6, 7, 8]\n"
     ]
    }
   ],
   "source": [
    "A=[1,2,3,4]\n",
    "B=[5,6,7,8]\n",
    "print(A)\n",
    "print(B)\n",
    "C=A+B\n",
    "C.sort()\n",
    "print('list:',C)"
   ]
  },
  {
   "cell_type": "code",
   "execution_count": 3,
   "metadata": {},
   "outputs": [
    {
     "name": "stdout",
     "output_type": "stream",
     "text": [
      "enter a number:13\n",
      "enter a bit you want to change1\n",
      "15\n"
     ]
    }
   ],
   "source": [
    "num=int(input('enter a number:'))\n",
    "i=int(input('enter a bit you want to change'))\n",
    "mn=1<<i\n",
    "print(num|mn)"
   ]
  },
  {
   "cell_type": "markdown",
   "metadata": {},
   "source": []
  },
  {
   "cell_type": "code",
   "execution_count": 4,
   "metadata": {},
   "outputs": [
    {
     "name": "stdout",
     "output_type": "stream",
     "text": [
      "(1, 2, 3, 4)\n",
      "the length is 4\n",
      "the sum is 10\n",
      "the largest is 4\n",
      "the smallest is 1\n"
     ]
    }
   ],
   "source": [
    "t=(1,2,3,4)\n",
    "print(t)\n",
    "print('the length is',len(t))\n",
    "print('the sum is',sum(t))\n",
    "print('the largest is',max(t))\n",
    "print('the smallest is',min(t))"
   ]
  },
  {
   "cell_type": "code",
   "execution_count": 5,
   "metadata": {},
   "outputs": [
    {
     "name": "stdout",
     "output_type": "stream",
     "text": [
      "[4, 5, 6, 8]\n"
     ]
    }
   ],
   "source": [
    "L=[4,4,5,6,8,4,5]\n",
    "L2=list(set(L))\n",
    "L2.sort()\n",
    "print(L2)"
   ]
  },
  {
   "cell_type": "code",
   "execution_count": null,
   "metadata": {},
   "outputs": [],
   "source": []
  }
 ],
 "metadata": {
  "kernelspec": {
   "display_name": "Python 3",
   "language": "python",
   "name": "python3"
  },
  "language_info": {
   "codemirror_mode": {
    "name": "ipython",
    "version": 3
   },
   "file_extension": ".py",
   "mimetype": "text/x-python",
   "name": "python",
   "nbconvert_exporter": "python",
   "pygments_lexer": "ipython3",
   "version": "3.7.6"
  }
 },
 "nbformat": 4,
 "nbformat_minor": 4
}
